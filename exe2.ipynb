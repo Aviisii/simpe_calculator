{
 "cells": [
  {
   "cell_type": "code",
   "execution_count": 1,
   "metadata": {},
   "outputs": [
    {
     "name": "stdout",
     "output_type": "stream",
     "text": [
      "True\n",
      "True\n"
     ]
    }
   ],
   "source": [
    "print(3>2)\n",
    "print(5<9)\n"
   ]
  },
  {
   "cell_type": "code",
   "execution_count": 9,
   "metadata": {},
   "outputs": [
    {
     "name": "stdout",
     "output_type": "stream",
     "text": [
      "False\n"
     ]
    }
   ],
   "source": [
    "a = 7\n",
    "print(a == 8)"
   ]
  },
  {
   "cell_type": "code",
   "execution_count": 4,
   "metadata": {},
   "outputs": [
    {
     "name": "stdout",
     "output_type": "stream",
     "text": [
      "True\n"
     ]
    }
   ],
   "source": [
    "print(1 != 0)"
   ]
  },
  {
   "cell_type": "code",
   "execution_count": 7,
   "metadata": {},
   "outputs": [
    {
     "name": "stdout",
     "output_type": "stream",
     "text": [
      "12\n",
      "2\n",
      "16\n",
      "3\n",
      "2\n"
     ]
    }
   ],
   "source": [
    "print(5+7)\n",
    "print(4-2)\n",
    "print(4*4)\n",
    "print(int(9/3))\n",
    "print(int(11%3))"
   ]
  },
  {
   "cell_type": "code",
   "execution_count": 12,
   "metadata": {},
   "outputs": [
    {
     "name": "stdout",
     "output_type": "stream",
     "text": [
      "Enter Your 1st Number: 2\n",
      "Enter Your 2nd Number: 3\n",
      "6\n"
     ]
    }
   ],
   "source": [
    "x = int(input(\"Enter Your 1st Number: \"))\n",
    "y = int(input(\"Enter Your 2nd Number: \"))\n",
    "print(x*y)"
   ]
  },
  {
   "cell_type": "code",
   "execution_count": 17,
   "metadata": {},
   "outputs": [
    {
     "name": "stdout",
     "output_type": "stream",
     "text": [
      "Enter your number :3.143453\n",
      "The number is 3.14\n"
     ]
    }
   ],
   "source": [
    "z = float(input(\"Enter your number :\"))\n",
    "print(\"The number is %.2f\" %z)"
   ]
  },
  {
   "cell_type": "code",
   "execution_count": 21,
   "metadata": {},
   "outputs": [
    {
     "name": "stdout",
     "output_type": "stream",
     "text": [
      "My Name is Avisi\n",
      "My Name is 'Avisi'\n",
      "My age is 19\n"
     ]
    }
   ],
   "source": [
    "print(\"My Name is %s\" %(\"Avisi\"))\n",
    "print(\"My Name is %r\" %(\"Avisi\"))\n",
    "print(\"My age is %d\" %(19))"
   ]
  },
  {
   "cell_type": "code",
   "execution_count": 23,
   "metadata": {},
   "outputs": [
    {
     "name": "stdout",
     "output_type": "stream",
     "text": [
      "My name is Kyaw Thet Soe. \n",
      " I'm 19 years old. \n",
      " I live in 'Mandalay'\n"
     ]
    }
   ],
   "source": [
    "print(\"My name is %s. \\n I'm %d years old. \\n I live in %r\" %(\"Kyaw Thet Soe\",19,\"Mandalay\"))"
   ]
  },
  {
   "cell_type": "code",
   "execution_count": 25,
   "metadata": {},
   "outputs": [
    {
     "name": "stdout",
     "output_type": "stream",
     "text": [
      "Enter your name: a\n",
      "Enter your age: 19\n",
      "My name is 'a'\n",
      "I am 19 years old\n"
     ]
    }
   ],
   "source": [
    "x = input(\"Enter your name: \")\n",
    "y = int(input(\"Enter your age: \"))\n",
    "print(\"My name is %r\" %x)\n",
    "print(\"I am %d years old\" %y)"
   ]
  },
  {
   "cell_type": "code",
   "execution_count": 30,
   "metadata": {},
   "outputs": [
    {
     "name": "stdout",
     "output_type": "stream",
     "text": [
      "Hello! My name is avisi.\n"
     ]
    }
   ],
   "source": [
    "name = \"avisi\"\n",
    "print(f\"Hello! My name is {name}.\")"
   ]
  },
  {
   "cell_type": "code",
   "execution_count": 34,
   "metadata": {},
   "outputs": [
    {
     "name": "stdout",
     "output_type": "stream",
     "text": [
      "Hello! My name is avisi.\n"
     ]
    }
   ],
   "source": [
    "print(\"Hello! My name is {}\".format(\"avisi.\"))"
   ]
  },
  {
   "cell_type": "code",
   "execution_count": 33,
   "metadata": {},
   "outputs": [
    {
     "name": "stdout",
     "output_type": "stream",
     "text": [
      "My name is avisti. I am 19 years old. I am from Mandalay.\n"
     ]
    }
   ],
   "source": [
    "txt1 = \"My name is {}. I am {} years old. I am from {}.\".format(\"avisi\",19,\"Mandalay\")\n",
    "print(txt1)"
   ]
  },
  {
   "cell_type": "code",
   "execution_count": 35,
   "metadata": {},
   "outputs": [
    {
     "name": "stdout",
     "output_type": "stream",
     "text": [
      "My name is avisi. I am 19 years old. I am from Mandalay.\n"
     ]
    }
   ],
   "source": [
    "txt1 = \"My name is {name}. I am {age} years old. I am from {place}.\".format(name= \"avisi\",place=\"Mandalay\",age=19)\n",
    "print(txt1)"
   ]
  },
  {
   "cell_type": "code",
   "execution_count": 41,
   "metadata": {},
   "outputs": [
    {
     "name": "stdout",
     "output_type": "stream",
     "text": [
      "My name is avisi. I am 19 years old. I am from Mandalay.\n"
     ]
    }
   ],
   "source": [
    "txt2 = \"My name is {0}. I am {2} years old. I am from {1}.\".format(\"avisi\",\"Mandalay\",19)\n",
    "print(txt2)"
   ]
  },
  {
   "cell_type": "code",
   "execution_count": 39,
   "metadata": {},
   "outputs": [
    {
     "name": "stdout",
     "output_type": "stream",
     "text": [
      "The sky is blue. The ocean is blue.\n"
     ]
    }
   ],
   "source": [
    "# The sky is blue. The ocean is blue.\n",
    "txt3 = \"The {a} is {b}. The {c} is {b}.\".format(a=\"sky\", b=\"blue\", c=\"ocean\")\n",
    "print(txt3)"
   ]
  },
  {
   "cell_type": "code",
   "execution_count": null,
   "metadata": {},
   "outputs": [],
   "source": []
  }
 ],
 "metadata": {
  "kernelspec": {
   "display_name": "Python 3",
   "language": "python",
   "name": "python3"
  },
  "language_info": {
   "codemirror_mode": {
    "name": "ipython",
    "version": 3
   },
   "file_extension": ".py",
   "mimetype": "text/x-python",
   "name": "python",
   "nbconvert_exporter": "python",
   "pygments_lexer": "ipython3",
   "version": "3.8.3"
  }
 },
 "nbformat": 4,
 "nbformat_minor": 4
}
